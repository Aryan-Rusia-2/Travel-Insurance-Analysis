{
  "cells": [
    {
      "cell_type": "markdown",
      "metadata": {
        "id": "ZUqiI9iQ4xIA"
      },
      "source": [
        "# **Travel Insurance Claims Prediction**"
      ]
    },
    {
      "cell_type": "markdown",
      "metadata": {},
      "source": [
        "Hi there! this notebook shows the analysis of Team Ceria to create a classification model of travel insurance claims using resampling methods, XGBoost, and Bayesian Optimization. The final result of the best XGBoost model will also be interpreted using feature importance and SHAP."
      ]
    },
    {
      "cell_type": "code",
      "execution_count": 5,
      "metadata": {
        "id": "iD3OJa6C4xID",
        "vscode": {
          "languageId": "python"
        }
      },
      "outputs": [],
      "source": [
        "import pandas as pd\n",
        "import numpy as np\n",
        "import matplotlib.pyplot as plt\n",
        "import xgboost as xgb\n",
        "import shap\n",
        "\n",
        "from pandas_profiling import ProfileReport\n",
        "from sklearn.impute import KNNImputer\n",
        "from sklearn.model_selection import train_test_split, cross_val_score\n",
        "from sklearn.metrics import accuracy_score, confusion_matrix, classification_report, roc_auc_score\n",
        "from imblearn.over_sampling import *\n",
        "from imblearn.under_sampling import *\n",
        "from imblearn.combine import *\n",
        "from bayes_opt import BayesianOptimization\n",
        "from xgboost import plot_importance"
      ]
    },
    {
      "cell_type": "markdown",
      "metadata": {
        "id": "WKMeboR84xIE"
      },
      "source": [
        "### **Load Travel Insurance Dataset**"
      ]
    },
    {
      "cell_type": "code",
      "execution_count": 6,
      "metadata": {
        "id": "szioXL1y4xIF",
        "vscode": {
          "languageId": "python"
        }
      },
      "outputs": [],
      "source": [
        "# Original dataset was provided by MASA committee and uploaded to the team's Github repo\n",
        "travel_df = pd.read_csv('https://raw.githubusercontent.com/matthewfarant/masa_hackathon_2022/main/travel_insurance_dataset.csv?token=GHSAT0AAAAAABWYHOFP5HGVUC7CKTPSKBNUYXYJHAQ')"
      ]
    },
    {
      "cell_type": "code",
      "execution_count": 7,
      "metadata": {
        "colab": {
          "base_uri": "https://localhost:8080/",
          "height": 250
        },
        "id": "KG04o64h4xIF",
        "outputId": "81b5e69d-f8e8-47e9-e5bd-3178d450459a",
        "vscode": {
          "languageId": "python"
        }
      },
      "outputs": [
        {
          "data": {
            "text/html": [
              "\n",
              "  <div id=\"df-095a6cac-e21a-40a9-aeaa-658b2ef3e03f\">\n",
              "    <div class=\"colab-df-container\">\n",
              "      <div>\n",
              "<style scoped>\n",
              "    .dataframe tbody tr th:only-of-type {\n",
              "        vertical-align: middle;\n",
              "    }\n",
              "\n",
              "    .dataframe tbody tr th {\n",
              "        vertical-align: top;\n",
              "    }\n",
              "\n",
              "    .dataframe thead th {\n",
              "        text-align: right;\n",
              "    }\n",
              "</style>\n",
              "<table border=\"1\" class=\"dataframe\">\n",
              "  <thead>\n",
              "    <tr style=\"text-align: right;\">\n",
              "      <th></th>\n",
              "      <th>Agency</th>\n",
              "      <th>Agency Type</th>\n",
              "      <th>Distribution Channel</th>\n",
              "      <th>Product Name</th>\n",
              "      <th>Claim</th>\n",
              "      <th>Duration</th>\n",
              "      <th>Destination</th>\n",
              "      <th>Net Sales</th>\n",
              "      <th>Commision (in value)</th>\n",
              "      <th>Gender</th>\n",
              "      <th>Age</th>\n",
              "    </tr>\n",
              "  </thead>\n",
              "  <tbody>\n",
              "    <tr>\n",
              "      <th>0</th>\n",
              "      <td>CBH</td>\n",
              "      <td>Travel Agency</td>\n",
              "      <td>Offline</td>\n",
              "      <td>Comprehensive Plan</td>\n",
              "      <td>No</td>\n",
              "      <td>186</td>\n",
              "      <td>MALAYSIA</td>\n",
              "      <td>-29.0</td>\n",
              "      <td>9.57</td>\n",
              "      <td>F</td>\n",
              "      <td>81</td>\n",
              "    </tr>\n",
              "    <tr>\n",
              "      <th>1</th>\n",
              "      <td>CBH</td>\n",
              "      <td>Travel Agency</td>\n",
              "      <td>Offline</td>\n",
              "      <td>Comprehensive Plan</td>\n",
              "      <td>No</td>\n",
              "      <td>186</td>\n",
              "      <td>MALAYSIA</td>\n",
              "      <td>-29.0</td>\n",
              "      <td>9.57</td>\n",
              "      <td>F</td>\n",
              "      <td>71</td>\n",
              "    </tr>\n",
              "    <tr>\n",
              "      <th>2</th>\n",
              "      <td>CWT</td>\n",
              "      <td>Travel Agency</td>\n",
              "      <td>Online</td>\n",
              "      <td>Rental Vehicle Excess Insurance</td>\n",
              "      <td>No</td>\n",
              "      <td>65</td>\n",
              "      <td>AUSTRALIA</td>\n",
              "      <td>-49.5</td>\n",
              "      <td>29.70</td>\n",
              "      <td>NaN</td>\n",
              "      <td>32</td>\n",
              "    </tr>\n",
              "    <tr>\n",
              "      <th>3</th>\n",
              "      <td>CWT</td>\n",
              "      <td>Travel Agency</td>\n",
              "      <td>Online</td>\n",
              "      <td>Rental Vehicle Excess Insurance</td>\n",
              "      <td>No</td>\n",
              "      <td>60</td>\n",
              "      <td>AUSTRALIA</td>\n",
              "      <td>-39.6</td>\n",
              "      <td>23.76</td>\n",
              "      <td>NaN</td>\n",
              "      <td>32</td>\n",
              "    </tr>\n",
              "    <tr>\n",
              "      <th>4</th>\n",
              "      <td>CWT</td>\n",
              "      <td>Travel Agency</td>\n",
              "      <td>Online</td>\n",
              "      <td>Rental Vehicle Excess Insurance</td>\n",
              "      <td>No</td>\n",
              "      <td>79</td>\n",
              "      <td>ITALY</td>\n",
              "      <td>-19.8</td>\n",
              "      <td>11.88</td>\n",
              "      <td>NaN</td>\n",
              "      <td>41</td>\n",
              "    </tr>\n",
              "  </tbody>\n",
              "</table>\n",
              "</div>\n",
              "      <button class=\"colab-df-convert\" onclick=\"convertToInteractive('df-095a6cac-e21a-40a9-aeaa-658b2ef3e03f')\"\n",
              "              title=\"Convert this dataframe to an interactive table.\"\n",
              "              style=\"display:none;\">\n",
              "        \n",
              "  <svg xmlns=\"http://www.w3.org/2000/svg\" height=\"24px\"viewBox=\"0 0 24 24\"\n",
              "       width=\"24px\">\n",
              "    <path d=\"M0 0h24v24H0V0z\" fill=\"none\"/>\n",
              "    <path d=\"M18.56 5.44l.94 2.06.94-2.06 2.06-.94-2.06-.94-.94-2.06-.94 2.06-2.06.94zm-11 1L8.5 8.5l.94-2.06 2.06-.94-2.06-.94L8.5 2.5l-.94 2.06-2.06.94zm10 10l.94 2.06.94-2.06 2.06-.94-2.06-.94-.94-2.06-.94 2.06-2.06.94z\"/><path d=\"M17.41 7.96l-1.37-1.37c-.4-.4-.92-.59-1.43-.59-.52 0-1.04.2-1.43.59L10.3 9.45l-7.72 7.72c-.78.78-.78 2.05 0 2.83L4 21.41c.39.39.9.59 1.41.59.51 0 1.02-.2 1.41-.59l7.78-7.78 2.81-2.81c.8-.78.8-2.07 0-2.86zM5.41 20L4 18.59l7.72-7.72 1.47 1.35L5.41 20z\"/>\n",
              "  </svg>\n",
              "      </button>\n",
              "      \n",
              "  <style>\n",
              "    .colab-df-container {\n",
              "      display:flex;\n",
              "      flex-wrap:wrap;\n",
              "      gap: 12px;\n",
              "    }\n",
              "\n",
              "    .colab-df-convert {\n",
              "      background-color: #E8F0FE;\n",
              "      border: none;\n",
              "      border-radius: 50%;\n",
              "      cursor: pointer;\n",
              "      display: none;\n",
              "      fill: #1967D2;\n",
              "      height: 32px;\n",
              "      padding: 0 0 0 0;\n",
              "      width: 32px;\n",
              "    }\n",
              "\n",
              "    .colab-df-convert:hover {\n",
              "      background-color: #E2EBFA;\n",
              "      box-shadow: 0px 1px 2px rgba(60, 64, 67, 0.3), 0px 1px 3px 1px rgba(60, 64, 67, 0.15);\n",
              "      fill: #174EA6;\n",
              "    }\n",
              "\n",
              "    [theme=dark] .colab-df-convert {\n",
              "      background-color: #3B4455;\n",
              "      fill: #D2E3FC;\n",
              "    }\n",
              "\n",
              "    [theme=dark] .colab-df-convert:hover {\n",
              "      background-color: #434B5C;\n",
              "      box-shadow: 0px 1px 3px 1px rgba(0, 0, 0, 0.15);\n",
              "      filter: drop-shadow(0px 1px 2px rgba(0, 0, 0, 0.3));\n",
              "      fill: #FFFFFF;\n",
              "    }\n",
              "  </style>\n",
              "\n",
              "      <script>\n",
              "        const buttonEl =\n",
              "          document.querySelector('#df-095a6cac-e21a-40a9-aeaa-658b2ef3e03f button.colab-df-convert');\n",
              "        buttonEl.style.display =\n",
              "          google.colab.kernel.accessAllowed ? 'block' : 'none';\n",
              "\n",
              "        async function convertToInteractive(key) {\n",
              "          const element = document.querySelector('#df-095a6cac-e21a-40a9-aeaa-658b2ef3e03f');\n",
              "          const dataTable =\n",
              "            await google.colab.kernel.invokeFunction('convertToInteractive',\n",
              "                                                     [key], {});\n",
              "          if (!dataTable) return;\n",
              "\n",
              "          const docLinkHtml = 'Like what you see? Visit the ' +\n",
              "            '<a target=\"_blank\" href=https://colab.research.google.com/notebooks/data_table.ipynb>data table notebook</a>'\n",
              "            + ' to learn more about interactive tables.';\n",
              "          element.innerHTML = '';\n",
              "          dataTable['output_type'] = 'display_data';\n",
              "          await google.colab.output.renderOutput(dataTable, element);\n",
              "          const docLink = document.createElement('div');\n",
              "          docLink.innerHTML = docLinkHtml;\n",
              "          element.appendChild(docLink);\n",
              "        }\n",
              "      </script>\n",
              "    </div>\n",
              "  </div>\n",
              "  "
            ],
            "text/plain": [
              "  Agency    Agency Type Distribution Channel                     Product Name  \\\n",
              "0    CBH  Travel Agency              Offline               Comprehensive Plan   \n",
              "1    CBH  Travel Agency              Offline               Comprehensive Plan   \n",
              "2    CWT  Travel Agency               Online  Rental Vehicle Excess Insurance   \n",
              "3    CWT  Travel Agency               Online  Rental Vehicle Excess Insurance   \n",
              "4    CWT  Travel Agency               Online  Rental Vehicle Excess Insurance   \n",
              "\n",
              "  Claim  Duration Destination  Net Sales  Commision (in value) Gender  Age  \n",
              "0    No       186    MALAYSIA      -29.0                  9.57      F   81  \n",
              "1    No       186    MALAYSIA      -29.0                  9.57      F   71  \n",
              "2    No        65   AUSTRALIA      -49.5                 29.70    NaN   32  \n",
              "3    No        60   AUSTRALIA      -39.6                 23.76    NaN   32  \n",
              "4    No        79       ITALY      -19.8                 11.88    NaN   41  "
            ]
          },
          "execution_count": 7,
          "metadata": {},
          "output_type": "execute_result"
        }
      ],
      "source": [
        "travel_df.head()"
      ]
    },
    {
      "cell_type": "markdown",
      "metadata": {
        "id": "UXdeEy2O4xIG"
      },
      "source": [
        "### **Auto-EDA using Pandas Profiling**"
      ]
    },
    {
      "cell_type": "markdown",
      "metadata": {},
      "source": [
        "The Exploratory Data Analysis (EDA) will be conducted automatically using the Pandas Profiling library. The HTML report generated by this library contains the detailed overview of all the features, missing & duplicated values, correlation matrix, and many more. If you want to see the report, you can **download the travel_insurance_eda.html file** in this repository."
      ]
    },
    {
      "cell_type": "code",
      "execution_count": null,
      "metadata": {
        "id": "wZ11PWBG4xIG",
        "outputId": "7ffd646c-bebf-4196-c6df-fe3373573788",
        "vscode": {
          "languageId": "python"
        }
      },
      "outputs": [
        {
          "name": "stderr",
          "output_type": "stream",
          "text": [
            "Summarize dataset: 100%|██████████| 41/41 [00:50<00:00,  1.23s/it, Completed]                                         \n",
            "Generate report structure: 100%|██████████| 1/1 [00:09<00:00,  9.23s/it]\n",
            "Render HTML: 100%|██████████| 1/1 [00:02<00:00,  2.50s/it]\n",
            "Export report to file: 100%|██████████| 1/1 [00:00<00:00, 168.37it/s]\n"
          ]
        }
      ],
      "source": [
        "prof = ProfileReport(travel_df)\n",
        "prof.to_file(output_file='travel_insurance_eda.html')"
      ]
    },
    {
      "cell_type": "markdown",
      "metadata": {
        "id": "pwggrRTV4xIG"
      },
      "source": [
        "### **Feature Engineering**"
      ]
    },
    {
      "cell_type": "markdown",
      "metadata": {},
      "source": [
        "After examining the EDA result generated by Pandas Profiling, a feature engineering process that includes data cleaning, data splitting, and handling imbalanced data will be conducted to achieve a better model performance, measured by the ROC-AUC value."
      ]
    },
    {
      "cell_type": "code",
      "execution_count": 103,
      "metadata": {
        "id": "VO-NnnfN4xIH",
        "vscode": {
          "languageId": "python"
        }
      },
      "outputs": [],
      "source": [
        "def feature_engineering(df):\n",
        "    # Replace abnormal age & duration values with NaN. However, more context is needed for these abnormal values.\n",
        "    df.loc[df['Age']>100,'Age'] = np.NaN\n",
        "    df.loc[(df['Duration']>1000) | (df['Duration']<0),'Duration'] = np.NaN \n",
        "    # Dummy encoding of categorical features\n",
        "    df = pd.get_dummies(df,drop_first=True)\n",
        "    # KNN imputation for missing values\n",
        "    col = df.columns\n",
        "    imputer = KNNImputer(n_neighbors=2)\n",
        "    df = pd.DataFrame(imputer.fit_transform(df))\n",
        "    df.columns = col\n",
        "    return df\n",
        "\n",
        "cleaned_df = feature_engineering(travel_df)"
      ]
    },
    {
      "cell_type": "markdown",
      "metadata": {
        "id": "ovteZI114xIH"
      },
      "source": [
        "### Data Splitting"
      ]
    },
    {
      "cell_type": "markdown",
      "metadata": {},
      "source": [
        "In this study, an 80:20 split ratio will be used."
      ]
    },
    {
      "cell_type": "code",
      "execution_count": 105,
      "metadata": {
        "id": "9eX_afY74xIH",
        "vscode": {
          "languageId": "python"
        }
      },
      "outputs": [],
      "source": [
        "def data_splitting(df,target_col,test_size):\n",
        "    global X, y, X_train, X_test, y_train, y_test\n",
        "    X = df.loc[:, df.columns != target_col]\n",
        "    y = df.loc[:, target_col]\n",
        "    X_train, X_test, y_train, y_test = train_test_split(X, y, test_size = test_size, random_state = 0)\n",
        "\n",
        "data_splitting(cleaned_df,'Claim_Yes',0.2)"
      ]
    },
    {
      "cell_type": "markdown",
      "metadata": {
        "id": "1xuJzogz4xIH"
      },
      "source": [
        "### Imbalanced Data: Claim vs. No Claim"
      ]
    },
    {
      "cell_type": "markdown",
      "metadata": {},
      "source": [
        "The main problem in this study is the existence of imbalanced data in the target feature. The code below shows that the number of claims is only 1% of the total number of policies. In this study, several methods of oversampling, undersampling, and combination resampling will compared and later be used to tackle this problem."
      ]
    },
    {
      "cell_type": "code",
      "execution_count": 106,
      "metadata": {
        "colab": {
          "base_uri": "https://localhost:8080/"
        },
        "id": "hvk5dt1Y4xII",
        "outputId": "c1a74792-4cd0-41f7-b3f8-e3fcdbf63555",
        "vscode": {
          "languageId": "python"
        }
      },
      "outputs": [
        {
          "data": {
            "text/plain": [
              "0.0    62399\n",
              "1.0      927\n",
              "Name: Claim_Yes, dtype: int64"
            ]
          },
          "execution_count": 106,
          "metadata": {},
          "output_type": "execute_result"
        }
      ],
      "source": [
        "# 0 = No Claim\n",
        "# 1 = Claim\n",
        "cleaned_df['Claim_Yes'].value_counts()"
      ]
    },
    {
      "cell_type": "markdown",
      "metadata": {
        "id": "dl8hjT7H4xII"
      },
      "source": [
        "The comparison is done using the XGBoost ROC-AUC value generated by cross validation score of 5-fold CV. Notice that the resampling process is done **only on training data**. A common mistake is to do the resampling before train-test splitting which generates an almost perfect model, but with misleading results. This phenomenon is usually called \"Data Leakage\"."
      ]
    },
    {
      "cell_type": "code",
      "execution_count": 10,
      "metadata": {
        "id": "4XLs-gdP8cGW",
        "vscode": {
          "languageId": "python"
        }
      },
      "outputs": [],
      "source": [
        "model = xgb.XGBRFClassifier(random_state=100)"
      ]
    },
    {
      "cell_type": "code",
      "execution_count": null,
      "metadata": {
        "colab": {
          "base_uri": "https://localhost:8080/"
        },
        "id": "Km_uJHxh8RoA",
        "outputId": "46d44e2f-2b8a-42fb-e747-b139b26264d7",
        "vscode": {
          "languageId": "python"
        }
      },
      "outputs": [
        {
          "name": "stdout",
          "output_type": "stream",
          "text": [
            "The XGB ROC-AUC Mean Score for  SMOTE(random_state=100)  is  0.9137785571469423\n",
            "The XGB ROC-AUC Mean Score for  BorderlineSMOTE(random_state=100)  is  0.9515687439601501\n",
            "The XGB ROC-AUC Mean Score for  SVMSMOTE(random_state=100)  is  0.9415471152057411\n"
          ]
        }
      ],
      "source": [
        "# some oversampling methods\n",
        "over_methods = [\n",
        "    SMOTE(random_state=100),\n",
        "    BorderlineSMOTE(random_state=100),\n",
        "    SVMSMOTE(random_state=100)\n",
        "]\n",
        "# cross validation (oversampling)\n",
        "for methods in over_methods:\n",
        "  X_train_res, y_train_res = methods.fit_resample(X_train, y_train.ravel())\n",
        "  score = cross_val_score(model, X_train_res, y_train_res, cv=5, scoring=\"roc_auc\", n_jobs=-1)\n",
        "  print(\"The XGB ROC-AUC Mean Score for \",methods,\" is \",np.mean(score))"
      ]
    },
    {
      "cell_type": "code",
      "execution_count": null,
      "metadata": {
        "colab": {
          "base_uri": "https://localhost:8080/"
        },
        "id": "jfmraNt5ENbX",
        "outputId": "1da9fa23-2c96-4fe2-f1ff-9797b1f49406",
        "vscode": {
          "languageId": "python"
        }
      },
      "outputs": [
        {
          "name": "stdout",
          "output_type": "stream",
          "text": [
            "The XGB ROC-AUC Mean Score for  RandomUnderSampler(random_state=100)  is  0.8783143306705398\n",
            "The XGB ROC-AUC Mean Score for  NearMiss()  is  0.8139634874525942\n",
            "The XGB ROC-AUC Mean Score for  EditedNearestNeighbours()  is  0.7767297528225076\n"
          ]
        }
      ],
      "source": [
        "# some undersampling methods\n",
        "under_methods = [\n",
        "    RandomUnderSampler(random_state=100),\n",
        "    NearMiss(),\n",
        "    EditedNearestNeighbours()\n",
        "]\n",
        "# cross validation (undersampling)\n",
        "for methods in under_methods:\n",
        "  X_train_res, y_train_res = methods.fit_resample(X_train, y_train.ravel())\n",
        "  score = cross_val_score(model, X_train_res, y_train_res, cv=5, scoring=\"roc_auc\", n_jobs=-1)\n",
        "  print(\"The XGB ROC-AUC Mean Score for \",methods,\" is \",np.mean(score))"
      ]
    },
    {
      "cell_type": "code",
      "execution_count": 11,
      "metadata": {
        "colab": {
          "base_uri": "https://localhost:8080/"
        },
        "id": "umOSPcC44XLv",
        "outputId": "6821d8df-d243-410b-81cf-cf318610512b",
        "vscode": {
          "languageId": "python"
        }
      },
      "outputs": [
        {
          "name": "stdout",
          "output_type": "stream",
          "text": [
            "The XGB ROC-AUC Mean Score for  SMOTEENN(random_state=100)  is  0.9317809676032731\n"
          ]
        },
        {
          "name": "stderr",
          "output_type": "stream",
          "text": [
            "A worker stopped while some jobs were given to the executor. This can be caused by a too short worker timeout or by a memory leak.\n"
          ]
        },
        {
          "name": "stdout",
          "output_type": "stream",
          "text": [
            "The XGB ROC-AUC Mean Score for  SMOTETomek(random_state=100)  is  0.9123865783176053\n"
          ]
        }
      ],
      "source": [
        "# some combination methods\n",
        "comb_methods = [\n",
        "    SMOTEENN(random_state=100),\n",
        "    SMOTETomek(random_state=100)\n",
        "]\n",
        "# cross validation (combination)\n",
        "for methods in comb_methods:\n",
        "  X_train_res, y_train_res = methods.fit_resample(X_train, y_train.ravel())\n",
        "  score = cross_val_score(model, X_train_res, y_train_res, cv=5, scoring=\"roc_auc\", n_jobs=-1)\n",
        "  print(\"The XGB ROC-AUC Mean Score for \",methods,\" is \",np.mean(score))"
      ]
    },
    {
      "cell_type": "markdown",
      "metadata": {},
      "source": [
        "From the codes above, we can see which one is the best method for each resampling categories. Next, we will use these three methods to model the claims using XGBoost."
      ]
    },
    {
      "cell_type": "code",
      "execution_count": 107,
      "metadata": {
        "id": "haqRUwkJ4xII",
        "vscode": {
          "languageId": "python"
        }
      },
      "outputs": [],
      "source": [
        "# (Based on above examination)\n",
        "\n",
        "# Best oversampling\n",
        "bsm = BorderlineSMOTE(random_state=100)\n",
        "X_train_res_bsm, y_train_res_bsm = bsm.fit_resample(X_train, y_train.ravel())\n",
        "\n",
        "# Best undersampling\n",
        "rus = RandomUnderSampler(random_state=100)\n",
        "X_train_res_rus, y_train_res_rus = rus.fit_resample(X_train, y_train.ravel())\n",
        "\n",
        "# Best combination\n",
        "com = SMOTEENN(random_state=100)\n",
        "X_train_res_com, y_train_res_com = com.fit_resample(X_train, y_train.ravel())"
      ]
    },
    {
      "cell_type": "markdown",
      "metadata": {
        "id": "X4IvwOI44xIJ"
      },
      "source": [
        "### **Hyperparameter Tuning using Bayesian Optimization**"
      ]
    },
    {
      "cell_type": "markdown",
      "metadata": {},
      "source": [
        "Hyperparameter tuning is an essential process in XGBoost modelling due to the numerous parameters that XGBoost has. Contrary to GridSearchCV or Random Search method that people commonly use, Bayesian Optimization doesn't pick the parameters from the hyperparameter space randomly. Instead, it will form a surrogate function to replicate the black-box function of XGBoost ROC-AUC that we want to maximize and sequentially pick the appropriate parameters until the ROC-AUC value is maximized"
      ]
    },
    {
      "cell_type": "code",
      "execution_count": 68,
      "metadata": {
        "id": "LOWan2Ct4xIK",
        "vscode": {
          "languageId": "python"
        }
      },
      "outputs": [],
      "source": [
        "# Hyperparameter Space\n",
        "hps = {\n",
        "  'min_child_weight':(3, 20),\n",
        "  'gamma':(0, 10),\n",
        "  'subsample':(0.5, 1),\n",
        "  'colsample_bytree':(0.1, 1),\n",
        "  'max_depth': (2, 20),\n",
        "  'learning_rate': (0, 1)\n",
        "}\n",
        "\n",
        "# Base function that will be optimized\n",
        "def hyper_xgboost(max_depth, subsample, colsample_bytree,min_child_weight, gamma, learning_rate):\n",
        "    params = {\n",
        "    'objective': 'binary:logistic',\n",
        "    'eval_metric':'auc',\n",
        "    'nthread':-1\n",
        "     }\n",
        "    params['max_depth'] = int(round(max_depth))\n",
        "    params['subsample'] = max(min(subsample, 1), 0)\n",
        "    params['colsample_bytree'] = max(min(colsample_bytree, 1), 0)\n",
        "    params['min_child_weight'] = int(min_child_weight)\n",
        "    params['gamma'] = max(gamma, 0)\n",
        "    params['learning_rate'] = learning_rate\n",
        "\n",
        "    scores = xgb.cv(params, dtrain, num_boost_round=500,verbose_eval=False,   #XGBoost requires data to be transformed into DMatrix\n",
        "                    early_stopping_rounds=10, nfold=5)\n",
        "    return scores['test-auc-mean'].iloc[-1]"
      ]
    },
    {
      "cell_type": "markdown",
      "metadata": {},
      "source": [
        "BorderlineSMOTE"
      ]
    },
    {
      "cell_type": "code",
      "execution_count": 44,
      "metadata": {
        "colab": {
          "base_uri": "https://localhost:8080/"
        },
        "id": "dYRF5WT-4xIK",
        "outputId": "d7ddef3f-e81b-4161-8d05-a8d7f1131ef2",
        "vscode": {
          "languageId": "python"
        }
      },
      "outputs": [
        {
          "name": "stdout",
          "output_type": "stream",
          "text": [
            "|   iter    |  target   | colsam... |   gamma   | learni... | max_depth | min_ch... | subsample |\n",
            "-------------------------------------------------------------------------------------------------\n",
            "| \u001b[0m 1       \u001b[0m | \u001b[0m 0.9818  \u001b[0m | \u001b[0m 0.4753  \u001b[0m | \u001b[0m 7.203   \u001b[0m | \u001b[0m 0.000114\u001b[0m | \u001b[0m 7.442   \u001b[0m | \u001b[0m 5.495   \u001b[0m | \u001b[0m 0.5462  \u001b[0m |\n",
            "| \u001b[95m 2       \u001b[0m | \u001b[95m 0.9973  \u001b[0m | \u001b[95m 0.2676  \u001b[0m | \u001b[95m 3.456   \u001b[0m | \u001b[95m 0.3968  \u001b[0m | \u001b[95m 11.7    \u001b[0m | \u001b[95m 10.13   \u001b[0m | \u001b[95m 0.8426  \u001b[0m |\n",
            "| \u001b[0m 3       \u001b[0m | \u001b[0m 0.997   \u001b[0m | \u001b[0m 0.2908  \u001b[0m | \u001b[0m 3.604   \u001b[0m | \u001b[0m 0.8477  \u001b[0m | \u001b[0m 11.16   \u001b[0m | \u001b[0m 10.07   \u001b[0m | \u001b[0m 0.6585  \u001b[0m |\n",
            "| \u001b[0m 4       \u001b[0m | \u001b[0m 0.9969  \u001b[0m | \u001b[0m 0.2957  \u001b[0m | \u001b[0m 0.2535  \u001b[0m | \u001b[0m 1.0     \u001b[0m | \u001b[0m 11.53   \u001b[0m | \u001b[0m 15.65   \u001b[0m | \u001b[0m 0.5     \u001b[0m |\n",
            "| \u001b[0m 5       \u001b[0m | \u001b[0m 0.9966  \u001b[0m | \u001b[0m 0.1303  \u001b[0m | \u001b[0m 6.76    \u001b[0m | \u001b[0m 1.0     \u001b[0m | \u001b[0m 16.69   \u001b[0m | \u001b[0m 15.6    \u001b[0m | \u001b[0m 0.5     \u001b[0m |\n",
            "| \u001b[0m 6       \u001b[0m | \u001b[0m 0.9968  \u001b[0m | \u001b[0m 1.0     \u001b[0m | \u001b[0m 0.0     \u001b[0m | \u001b[0m 1.0     \u001b[0m | \u001b[0m 19.51   \u001b[0m | \u001b[0m 10.84   \u001b[0m | \u001b[0m 0.5     \u001b[0m |\n",
            "| \u001b[0m 7       \u001b[0m | \u001b[0m 0.9968  \u001b[0m | \u001b[0m 1.0     \u001b[0m | \u001b[0m 0.0     \u001b[0m | \u001b[0m 1.0     \u001b[0m | \u001b[0m 20.0    \u001b[0m | \u001b[0m 20.0    \u001b[0m | \u001b[0m 0.5052  \u001b[0m |\n",
            "=================================================================================================\n"
          ]
        }
      ],
      "source": [
        "# BorderlineSMOTE\n",
        "dtrain = xgb.DMatrix(X_train_res_bsm, y_train_res_bsm, feature_names=X_train_res_bsm.columns.values)\n",
        "optimizer = BayesianOptimization(hyper_xgboost, hps, random_state=1)\n",
        "optimizer.maximize(init_points=2, n_iter=5)"
      ]
    },
    {
      "cell_type": "code",
      "execution_count": 45,
      "metadata": {
        "colab": {
          "base_uri": "https://localhost:8080/"
        },
        "id": "LllDAiYH4xIK",
        "outputId": "c95ebe11-7f7e-4eae-ab9f-4345013a8678",
        "vscode": {
          "languageId": "python"
        }
      },
      "outputs": [
        {
          "data": {
            "text/plain": [
              "{'colsample_bytree': 0.2676341902399038,\n",
              " 'gamma': 3.4556072704304777,\n",
              " 'learning_rate': 0.39676747423066994,\n",
              " 'max_depth': 11.698701212060424,\n",
              " 'min_child_weight': 10.126306744856013,\n",
              " 'subsample': 0.8426097501983798}"
            ]
          },
          "execution_count": 45,
          "metadata": {},
          "output_type": "execute_result"
        }
      ],
      "source": [
        "optimizer.max['params']"
      ]
    },
    {
      "cell_type": "code",
      "execution_count": 71,
      "metadata": {
        "colab": {
          "base_uri": "https://localhost:8080/"
        },
        "id": "7o5bbTfG4xIL",
        "outputId": "445fa15e-af9f-469f-b087-f2c9394a6f74",
        "vscode": {
          "languageId": "python"
        }
      },
      "outputs": [
        {
          "data": {
            "text/plain": [
              "XGBClassifier(colsample_bytree=0.2676341902399038, eval_metric='auc',\n",
              "              gamma=3.4556072704304777, learning_rate=0.39676747423066994,\n",
              "              max_depth=12, min_child_weight=10, n_jobs=-1, nthread=-1,\n",
              "              random_state=100, subsample=0.8426097501983798)"
            ]
          },
          "execution_count": 71,
          "metadata": {},
          "output_type": "execute_result"
        }
      ],
      "source": [
        "# Based on the best parameter tuning above\n",
        "params = {\n",
        "    'colsample_bytree': 0.2676341902399038,\n",
        "    'gamma': 3.4556072704304777,\n",
        "    'learning_rate': 0.39676747423066994,\n",
        "    'max_depth': 12,\n",
        "    'min_child_weight': 10,\n",
        "    'subsample': 0.8426097501983798,\n",
        "    'objective': 'binary:logistic',\n",
        "    'eval_metric':'auc',\n",
        "    'n_jobs':-1\n",
        "}\n",
        "xgbr_ov =  xgb.XGBClassifier(**params, random_state=100, nthread=-1)\n",
        "xgbr_ov.fit(X_train_res_bsm, y_train_res_bsm)"
      ]
    },
    {
      "cell_type": "code",
      "execution_count": 72,
      "metadata": {
        "colab": {
          "base_uri": "https://localhost:8080/"
        },
        "id": "km8WYJ3-4xIL",
        "outputId": "2ef7f324-26ae-43cd-d263-a1a29f1367c5",
        "vscode": {
          "languageId": "python"
        }
      },
      "outputs": [
        {
          "name": "stdout",
          "output_type": "stream",
          "text": [
            "Test Accuracy score 0.980050531634909\n",
            "ROC AUC Score 0.5202395988905484\n",
            "              precision    recall  f1-score   support\n",
            "\n",
            "         0.0       0.99      0.99      0.99     18748\n",
            "         1.0       0.08      0.05      0.06       250\n",
            "\n",
            "    accuracy                           0.98     18998\n",
            "   macro avg       0.53      0.52      0.52     18998\n",
            "weighted avg       0.98      0.98      0.98     18998\n",
            "\n"
          ]
        }
      ],
      "source": [
        "y_pred = xgbr_ov.predict(X_test)\n",
        "testing_accuracy = accuracy_score(y_test, y_pred)\n",
        "roc_auc = roc_auc_score(y_test,y_pred)\n",
        "print(\"Test Accuracy score {0}\".format(testing_accuracy))\n",
        "print(\"ROC AUC Score {0}\".format(roc_auc))\n",
        "print(classification_report(y_test, y_pred))"
      ]
    },
    {
      "cell_type": "markdown",
      "metadata": {},
      "source": [
        "RandomUnderSampling"
      ]
    },
    {
      "cell_type": "code",
      "execution_count": 108,
      "metadata": {
        "colab": {
          "base_uri": "https://localhost:8080/"
        },
        "id": "cdcVPO6cQaZl",
        "outputId": "5b7f648f-36a4-42ec-abd6-13660638deed",
        "vscode": {
          "languageId": "python"
        }
      },
      "outputs": [
        {
          "name": "stdout",
          "output_type": "stream",
          "text": [
            "|   iter    |  target   | colsam... |   gamma   | learni... | max_depth | min_ch... | subsample |\n",
            "-------------------------------------------------------------------------------------------------\n",
            "| \u001b[0m 1       \u001b[0m | \u001b[0m 0.8199  \u001b[0m | \u001b[0m 0.4753  \u001b[0m | \u001b[0m 7.203   \u001b[0m | \u001b[0m 0.000114\u001b[0m | \u001b[0m 7.442   \u001b[0m | \u001b[0m 5.495   \u001b[0m | \u001b[0m 0.5462  \u001b[0m |\n",
            "| \u001b[0m 2       \u001b[0m | \u001b[0m 0.819   \u001b[0m | \u001b[0m 0.2676  \u001b[0m | \u001b[0m 3.456   \u001b[0m | \u001b[0m 0.3968  \u001b[0m | \u001b[0m 11.7    \u001b[0m | \u001b[0m 10.13   \u001b[0m | \u001b[0m 0.8426  \u001b[0m |\n",
            "| \u001b[95m 3       \u001b[0m | \u001b[95m 0.8211  \u001b[0m | \u001b[95m 0.4054  \u001b[0m | \u001b[95m 7.817   \u001b[0m | \u001b[95m 0.1203  \u001b[0m | \u001b[95m 7.538   \u001b[0m | \u001b[95m 5.589   \u001b[0m | \u001b[95m 0.9949  \u001b[0m |\n",
            "| \u001b[0m 4       \u001b[0m | \u001b[0m 0.806   \u001b[0m | \u001b[0m 0.6379  \u001b[0m | \u001b[0m 3.184   \u001b[0m | \u001b[0m 0.6631  \u001b[0m | \u001b[0m 10.07   \u001b[0m | \u001b[0m 5.927   \u001b[0m | \u001b[0m 0.6515  \u001b[0m |\n",
            "| \u001b[0m 5       \u001b[0m | \u001b[0m 0.8068  \u001b[0m | \u001b[0m 0.1075  \u001b[0m | \u001b[0m 9.696   \u001b[0m | \u001b[0m 0.02058 \u001b[0m | \u001b[0m 4.872   \u001b[0m | \u001b[0m 6.028   \u001b[0m | \u001b[0m 0.5944  \u001b[0m |\n",
            "| \u001b[0m 6       \u001b[0m | \u001b[0m 0.8209  \u001b[0m | \u001b[0m 0.8096  \u001b[0m | \u001b[0m 8.579   \u001b[0m | \u001b[0m 0.2866  \u001b[0m | \u001b[0m 9.447   \u001b[0m | \u001b[0m 5.336   \u001b[0m | \u001b[0m 0.5578  \u001b[0m |\n",
            "| \u001b[95m 7       \u001b[0m | \u001b[95m 0.8228  \u001b[0m | \u001b[95m 0.6531  \u001b[0m | \u001b[95m 8.305   \u001b[0m | \u001b[95m 0.1256  \u001b[0m | \u001b[95m 8.591   \u001b[0m | \u001b[95m 3.011   \u001b[0m | \u001b[95m 0.9088  \u001b[0m |\n",
            "=================================================================================================\n"
          ]
        }
      ],
      "source": [
        "# RandomUnderSampling\n",
        "dtrain = xgb.DMatrix(X_train_res_rus, y_train_res_rus, feature_names=X_train_res_rus.columns.values)\n",
        "optimizer = BayesianOptimization(hyper_xgboost, hps, random_state=1)\n",
        "optimizer.maximize(init_points=2, n_iter=5)"
      ]
    },
    {
      "cell_type": "code",
      "execution_count": 109,
      "metadata": {
        "colab": {
          "base_uri": "https://localhost:8080/"
        },
        "id": "RrHUyg5tUUuG",
        "outputId": "11273dd3-4741-417d-d60f-e884a9d15016",
        "vscode": {
          "languageId": "python"
        }
      },
      "outputs": [
        {
          "data": {
            "text/plain": [
              "{'colsample_bytree': 0.6530757505740343,\n",
              " 'gamma': 8.304814324499533,\n",
              " 'learning_rate': 0.12556992929644617,\n",
              " 'max_depth': 8.590533394055313,\n",
              " 'min_child_weight': 3.0106534893767374,\n",
              " 'subsample': 0.9088292575533716}"
            ]
          },
          "execution_count": 109,
          "metadata": {},
          "output_type": "execute_result"
        }
      ],
      "source": [
        "optimizer.max['params']"
      ]
    },
    {
      "cell_type": "code",
      "execution_count": 110,
      "metadata": {
        "colab": {
          "base_uri": "https://localhost:8080/"
        },
        "id": "QBlkJKQMUXgh",
        "outputId": "dc1eed91-30da-4efd-c6c3-bdf377fa54da",
        "vscode": {
          "languageId": "python"
        }
      },
      "outputs": [
        {
          "data": {
            "text/plain": [
              "XGBClassifier(colsample_bytree=0.6530757505740343, eval_metric='auc',\n",
              "              gamma=8.304814324499533, learning_rate=0.12556992929644617,\n",
              "              max_depth=9, min_child_weight=3, n_jobs=-1, nthread=-1,\n",
              "              random_state=100, subsample=0.9088292575533716)"
            ]
          },
          "execution_count": 110,
          "metadata": {},
          "output_type": "execute_result"
        }
      ],
      "source": [
        "# Based on the best parameter tuning above\n",
        "params = {\n",
        "    'colsample_bytree': 0.6530757505740343,\n",
        "    'gamma': 8.304814324499533,\n",
        "    'learning_rate': 0.12556992929644617,\n",
        "    'max_depth': 9,\n",
        "    'min_child_weight': 3,\n",
        "    'subsample': 0.9088292575533716,\n",
        "    'objective': 'binary:logistic',\n",
        "    'eval_metric':'auc',\n",
        "    'n_jobs':-1\n",
        "}\n",
        "xgbr_un =  xgb.XGBClassifier(**params, random_state=100, nthread=-1)\n",
        "xgbr_un.fit(X_train_res_rus, y_train_res_rus)"
      ]
    },
    {
      "cell_type": "code",
      "execution_count": 111,
      "metadata": {
        "colab": {
          "base_uri": "https://localhost:8080/"
        },
        "id": "kbSxNArGVGqm",
        "outputId": "21348b41-9865-440d-c0cd-97af330614df",
        "vscode": {
          "languageId": "python"
        }
      },
      "outputs": [
        {
          "name": "stdout",
          "output_type": "stream",
          "text": [
            "Test Accuracy score 0.7587241433759672\n",
            "ROC AUC Score 0.7463949927864344\n",
            "              precision    recall  f1-score   support\n",
            "\n",
            "         0.0       1.00      0.76      0.86     12497\n",
            "         1.0       0.04      0.73      0.08       169\n",
            "\n",
            "    accuracy                           0.76     12666\n",
            "   macro avg       0.52      0.75      0.47     12666\n",
            "weighted avg       0.98      0.76      0.85     12666\n",
            "\n"
          ]
        }
      ],
      "source": [
        "y_pred = xgbr_un.predict(X_test)\n",
        "testing_accuracy = accuracy_score(y_test, y_pred)\n",
        "roc_auc = roc_auc_score(y_test,y_pred)\n",
        "print(\"Test Accuracy score {0}\".format(testing_accuracy))\n",
        "print(\"ROC AUC Score {0}\".format(roc_auc))\n",
        "print(classification_report(y_test, y_pred))"
      ]
    },
    {
      "cell_type": "markdown",
      "metadata": {},
      "source": [
        "SMOTEENN"
      ]
    },
    {
      "cell_type": "code",
      "execution_count": 83,
      "metadata": {
        "colab": {
          "base_uri": "https://localhost:8080/"
        },
        "id": "24XspE2SDtmq",
        "outputId": "9090bc09-d028-41bf-d932-13e7515c9990",
        "vscode": {
          "languageId": "python"
        }
      },
      "outputs": [
        {
          "name": "stdout",
          "output_type": "stream",
          "text": [
            "|   iter    |  target   | colsam... |   gamma   | learni... | max_depth | min_ch... | subsample |\n",
            "-------------------------------------------------------------------------------------------------\n",
            "| \u001b[0m 1       \u001b[0m | \u001b[0m 0.9772  \u001b[0m | \u001b[0m 0.4753  \u001b[0m | \u001b[0m 7.203   \u001b[0m | \u001b[0m 0.000114\u001b[0m | \u001b[0m 7.442   \u001b[0m | \u001b[0m 5.495   \u001b[0m | \u001b[0m 0.5462  \u001b[0m |\n",
            "| \u001b[95m 2       \u001b[0m | \u001b[95m 0.9983  \u001b[0m | \u001b[95m 0.2676  \u001b[0m | \u001b[95m 3.456   \u001b[0m | \u001b[95m 0.3968  \u001b[0m | \u001b[95m 11.7    \u001b[0m | \u001b[95m 10.13   \u001b[0m | \u001b[95m 0.8426  \u001b[0m |\n",
            "| \u001b[0m 3       \u001b[0m | \u001b[0m 0.998   \u001b[0m | \u001b[0m 0.2908  \u001b[0m | \u001b[0m 3.604   \u001b[0m | \u001b[0m 0.8477  \u001b[0m | \u001b[0m 11.16   \u001b[0m | \u001b[0m 10.07   \u001b[0m | \u001b[0m 0.6585  \u001b[0m |\n",
            "| \u001b[0m 4       \u001b[0m | \u001b[0m 0.9979  \u001b[0m | \u001b[0m 0.3302  \u001b[0m | \u001b[0m 0.2223  \u001b[0m | \u001b[0m 1.0     \u001b[0m | \u001b[0m 11.33   \u001b[0m | \u001b[0m 15.57   \u001b[0m | \u001b[0m 0.5     \u001b[0m |\n",
            "| \u001b[0m 5       \u001b[0m | \u001b[0m 0.9975  \u001b[0m | \u001b[0m 0.2118  \u001b[0m | \u001b[0m 6.783   \u001b[0m | \u001b[0m 1.0     \u001b[0m | \u001b[0m 16.23   \u001b[0m | \u001b[0m 15.93   \u001b[0m | \u001b[0m 0.5     \u001b[0m |\n",
            "| \u001b[0m 6       \u001b[0m | \u001b[0m 0.9982  \u001b[0m | \u001b[0m 1.0     \u001b[0m | \u001b[0m 0.0     \u001b[0m | \u001b[0m 1.0     \u001b[0m | \u001b[0m 19.64   \u001b[0m | \u001b[0m 11.36   \u001b[0m | \u001b[0m 0.5     \u001b[0m |\n",
            "| \u001b[0m 7       \u001b[0m | \u001b[0m 0.9981  \u001b[0m | \u001b[0m 1.0     \u001b[0m | \u001b[0m 0.0     \u001b[0m | \u001b[0m 1.0     \u001b[0m | \u001b[0m 20.0    \u001b[0m | \u001b[0m 20.0    \u001b[0m | \u001b[0m 0.5025  \u001b[0m |\n",
            "=================================================================================================\n"
          ]
        }
      ],
      "source": [
        "# SMOTEENN\n",
        "dtrain = xgb.DMatrix(X_train_res_com, y_train_res_com, feature_names=X_train_res_com.columns.values)\n",
        "optimizer = BayesianOptimization(hyper_xgboost, hps, random_state=1)\n",
        "optimizer.maximize(init_points=2, n_iter=5)"
      ]
    },
    {
      "cell_type": "code",
      "execution_count": 84,
      "metadata": {
        "colab": {
          "base_uri": "https://localhost:8080/"
        },
        "id": "WO8V0_PND7jn",
        "outputId": "28961cbf-3aa5-4676-c737-8e886adf287d",
        "vscode": {
          "languageId": "python"
        }
      },
      "outputs": [
        {
          "data": {
            "text/plain": [
              "{'colsample_bytree': 0.2676341902399038,\n",
              " 'gamma': 3.4556072704304777,\n",
              " 'learning_rate': 0.39676747423066994,\n",
              " 'max_depth': 11.698701212060424,\n",
              " 'min_child_weight': 10.126306744856013,\n",
              " 'subsample': 0.8426097501983798}"
            ]
          },
          "execution_count": 84,
          "metadata": {},
          "output_type": "execute_result"
        }
      ],
      "source": [
        "optimizer.max['params']"
      ]
    },
    {
      "cell_type": "code",
      "execution_count": 87,
      "metadata": {
        "colab": {
          "base_uri": "https://localhost:8080/"
        },
        "id": "xvqIX6edD_oL",
        "outputId": "dec36333-06ca-438d-8d18-35319b5187a8",
        "vscode": {
          "languageId": "python"
        }
      },
      "outputs": [
        {
          "data": {
            "text/plain": [
              "XGBClassifier(colsample_bytree=0.2676341902399038, eval_metric='auc',\n",
              "              gamma=3.4556072704304777, learning_rate=0.39676747423066994,\n",
              "              max_depth=12, min_child_weight=10, n_jobs=-1, nthread=-1,\n",
              "              random_state=100, subsample=0.8426097501983798)"
            ]
          },
          "execution_count": 87,
          "metadata": {},
          "output_type": "execute_result"
        }
      ],
      "source": [
        "# Based on the best parameter tuning above\n",
        "params = {\n",
        "    'colsample_bytree': 0.2676341902399038,\n",
        "    'gamma': 3.4556072704304777,\n",
        "    'learning_rate': 0.39676747423066994,\n",
        "    'max_depth': 12,\n",
        "    'min_child_weight': 10,\n",
        "    'subsample': 0.8426097501983798,\n",
        "    'objective': 'binary:logistic',\n",
        "    'eval_metric':'auc',\n",
        "    'n_jobs':-1\n",
        "}\n",
        "xgbr_com =  xgb.XGBClassifier(**params, random_state=100, nthread=-1)\n",
        "xgbr_com.fit(X_train_res_com, y_train_res_com)"
      ]
    },
    {
      "cell_type": "code",
      "execution_count": 88,
      "metadata": {
        "colab": {
          "base_uri": "https://localhost:8080/"
        },
        "id": "IS8J9hVjEDG4",
        "outputId": "0c52ae24-dfac-45df-da75-b1ab4f8c49df",
        "vscode": {
          "languageId": "python"
        }
      },
      "outputs": [
        {
          "name": "stdout",
          "output_type": "stream",
          "text": [
            "Test Accuracy score 0.9659964206758607\n",
            "ROC AUC Score 0.5802120759547684\n",
            "              precision    recall  f1-score   support\n",
            "\n",
            "         0.0       0.99      0.98      0.98     18748\n",
            "         1.0       0.09      0.18      0.12       250\n",
            "\n",
            "    accuracy                           0.97     18998\n",
            "   macro avg       0.54      0.58      0.55     18998\n",
            "weighted avg       0.98      0.97      0.97     18998\n",
            "\n"
          ]
        }
      ],
      "source": [
        "y_pred = xgbr_com.predict(X_test)\n",
        "testing_accuracy = accuracy_score(y_test, y_pred)\n",
        "roc_auc = roc_auc_score(y_test,y_pred)\n",
        "print(\"Test Accuracy score {0}\".format(testing_accuracy))\n",
        "print(\"ROC AUC Score {0}\".format(roc_auc))\n",
        "print(classification_report(y_test, y_pred))"
      ]
    },
    {
      "cell_type": "markdown",
      "metadata": {
        "id": "aXSA8bkuFZv0"
      },
      "source": [
        "From the three results above, we can conclude that RandomUnderSampling will generate the highest ROC-AUC score among the other methods. Even though the accuracy score is not the highest, the main thing that is focused in this study is the ability of the model to predict the minority class (claims)."
      ]
    },
    {
      "cell_type": "code",
      "execution_count": 112,
      "metadata": {
        "colab": {
          "base_uri": "https://localhost:8080/"
        },
        "id": "u37mKsxM4xIM",
        "outputId": "0c96031d-f49e-449d-d448-6f1ebfd7cbda",
        "vscode": {
          "languageId": "python"
        }
      },
      "outputs": [
        {
          "name": "stdout",
          "output_type": "stream",
          "text": [
            "[[9486 3011]\n",
            " [  45  124]]\n"
          ]
        }
      ],
      "source": [
        "# After re-running xgb modelling for RandomUnderSampling\n",
        "print(confusion_matrix(y_test,y_pred))"
      ]
    },
    {
      "cell_type": "markdown",
      "metadata": {},
      "source": [
        "From the confusion matrix above, we can see that the model has a 76% acurracy and 73% recall, which is a good thing since in cost-sensitive learning, a conservative model is needed. On other words, since the cost of false negative (wrongly predict someone is not claiming) is **higher** than the cost of false positive (wrongly predict someone is claiming), a high recall is a good news."
      ]
    },
    {
      "cell_type": "markdown",
      "metadata": {},
      "source": [
        "### **Model Interpretation**"
      ]
    },
    {
      "cell_type": "markdown",
      "metadata": {},
      "source": [
        "Below is a feature importance plot of the XGBoost model. In this plot, we can see which features are the most significant predictors of whether a policyholder files a claim. It is shown that Net Sales, Duration, Age, Agency_C2B, and Product Name_Cancellation Plan are among the top 5 features."
      ]
    },
    {
      "cell_type": "code",
      "execution_count": 113,
      "metadata": {
        "colab": {
          "base_uri": "https://localhost:8080/",
          "height": 295
        },
        "id": "fuq9cW9o4xIM",
        "outputId": "ce0c7662-2f14-429d-c459-4359bb419cb9",
        "vscode": {
          "languageId": "python"
        }
      },
      "outputs": [
        {
          "data": {
            "image/png": "[encoded data removed]",
            "text/plain": [
              "<Figure size 432x288 with 1 Axes>"
            ]
          },
          "metadata": {
            "needs_background": "light"
          },
          "output_type": "display_data"
        }
      ],
      "source": [
        "# XGBoost Feature Importance\n",
        "plot_importance(xgbr_un)\n",
        "plt.show()"
      ]
    },
    {
      "cell_type": "markdown",
      "metadata": {},
      "source": [
        "As an additional analysis to see the dynamic significance of each individual data to the prediction, a SHAP summary plot is also generated below. Some of the results below are also confirming the feature importance above."
      ]
    },
    {
      "cell_type": "code",
      "execution_count": 114,
      "metadata": {
        "colab": {
          "base_uri": "https://localhost:8080/",
          "height": 693
        },
        "id": "MQNe2iaoi_Pa",
        "outputId": "aba7ac01-85d5-4832-8fe9-4d8fc3065e68",
        "vscode": {
          "languageId": "python"
        }
      },
      "outputs": [
        {
          "data": {
            "image/png": "[encoded data removed]",
            "text/plain": [
              "<Figure size 576x684 with 2 Axes>"
            ]
          },
          "metadata": {
            "needs_background": "light"
          },
          "output_type": "display_data"
        }
      ],
      "source": [
        "shap_values = shap.TreeExplainer(xgbr_un).shap_values(X)\n",
        "shap.summary_plot(shap_values, X)"
      ]
    },
    {
      "cell_type": "markdown",
      "metadata": {},
      "source": [
        "That's it folks! A detailed explanation of our analysis will be written in the business proposal. Thank you :smile:"
      ]
    }
  ],
  "metadata": {
    "colab": {
      "name": "travel_insurance_claims_prediction.ipynb",
      "provenance": []
    },
    "kernelspec": {
      "display_name": "masa-kernel",
      "language": "python",
      "name": "masa-kernel"
    },
    "orig_nbformat": 4
  },
  "nbformat": 4,
  "nbformat_minor": 0
}
